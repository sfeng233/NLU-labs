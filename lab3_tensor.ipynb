{
 "cells": [
  {
   "cell_type": "markdown",
   "metadata": {},
   "source": [
    "# NLU+ 2021-2022 Lab 3: Tensor Computation in PyTorch"
   ]
  },
  {
   "cell_type": "markdown",
   "metadata": {},
   "source": [
    "#### Authors: Yao Fu and Frank Keller"
   ]
  },
  {
   "cell_type": "markdown",
   "metadata": {},
   "source": [
    "This lab indends to teach computation with tensors, which is a fundamental paradigm in modern machine learning. \n",
    "\n",
    "Students should work through Section 1 before the lab session, as this section introduces the basics of tensor computation. The lab session will then focus on more advanced computations with tensors, in Sections 2 and 3.\n",
    "\n",
    "**Students are strongly encouraged to complete this lab before starting CW2. Many computations in the lab will be encountered in CW2 again, so the amount of difficult in the coursework will be significantly reduced.**"
   ]
  },
  {
   "cell_type": "markdown",
   "metadata": {},
   "source": [
    "We suggest using jupyter lab instead of jupyter notebook. Basically jupyter lab is an enhanced version of jupyter notebook. Downloading jupyter lab is simply:\n",
    "\n",
    "```bash\n",
    "pip install jupyterlab\n",
    "```\n",
    "\n",
    "Then in a terminal, start jupyter lab with \n",
    "```bash\n",
    "jupyter lab\n",
    "```"
   ]
  },
  {
   "cell_type": "code",
   "execution_count": 6,
   "metadata": {},
   "outputs": [],
   "source": [
    "import torch \n",
    "import torch.nn.functional as F"
   ]
  },
  {
   "cell_type": "markdown",
   "metadata": {},
   "source": [
    "# Section 1. Basic Tensor Computation"
   ]
  },
  {
   "cell_type": "markdown",
   "metadata": {},
   "source": [
    "## Definition of Tensor: High-dimensional Array"
   ]
  },
  {
   "cell_type": "markdown",
   "metadata": {},
   "source": [
    "### Vector"
   ]
  },
  {
   "cell_type": "markdown",
   "metadata": {},
   "source": [
    "A vector is a rank-1 (or one-dimentional) tensor.\n",
    "\n",
    "In NLP, it could be a single sentence where each word is an integer index."
   ]
  },
  {
   "cell_type": "code",
   "execution_count": 7,
   "metadata": {},
   "outputs": [],
   "source": [
    "sent = torch.tensor([1, 3, 5, 7, 9])"
   ]
  },
  {
   "cell_type": "code",
   "execution_count": 8,
   "metadata": {},
   "outputs": [
    {
     "data": {
      "text/plain": [
       "tensor([1, 3, 5, 7, 9])"
      ]
     },
     "execution_count": 8,
     "metadata": {},
     "output_type": "execute_result"
    }
   ],
   "source": [
    "sent"
   ]
  },
  {
   "cell_type": "markdown",
   "metadata": {},
   "source": [
    "### Matrix"
   ]
  },
  {
   "cell_type": "markdown",
   "metadata": {},
   "source": [
    "A matrix is a rank-2 (or two-dimentional) tensor.\n",
    "\n",
    "In NLP, this could used to represent a batch of different sentences."
   ]
  },
  {
   "cell_type": "code",
   "execution_count": 9,
   "metadata": {},
   "outputs": [],
   "source": [
    "sents = torch.tensor([[1, 3, 5, 7, 9], \n",
    "                     [2, 4, 6, 8, 10]]) # a batch of two sentences"
   ]
  },
  {
   "cell_type": "code",
   "execution_count": 10,
   "metadata": {},
   "outputs": [
    {
     "data": {
      "text/plain": [
       "tensor([[ 1,  3,  5,  7,  9],\n",
       "        [ 2,  4,  6,  8, 10]])"
      ]
     },
     "execution_count": 10,
     "metadata": {},
     "output_type": "execute_result"
    }
   ],
   "source": [
    "sents # we assume these index corresponds to some actual words"
   ]
  },
  {
   "cell_type": "markdown",
   "metadata": {},
   "source": [
    "### Rank-3 Tensor"
   ]
  },
  {
   "cell_type": "markdown",
   "metadata": {},
   "source": [
    "There can be a rank-3 (three-dimensional) tensor.\n",
    "\n",
    "In NLP, this could be a batch of sentences, where each word in each sentence is representened as an embedding vector."
   ]
  },
  {
   "cell_type": "code",
   "execution_count": 11,
   "metadata": {},
   "outputs": [],
   "source": [
    "sents_emb = torch.rand([2, 5, 10])  # [batch_size = 2, sentence_length = 5, hidden_size = 10]\n",
    "                                    # we use random vectors for the purpose of demonstration \n",
    "                                    # we use the name `hidden_size` because the embedding is usually referred as 'hidden representations' in neural networks"
   ]
  },
  {
   "cell_type": "code",
   "execution_count": 12,
   "metadata": {},
   "outputs": [
    {
     "data": {
      "text/plain": [
       "tensor([[[0.2552, 0.2932, 0.9128, 0.0385, 0.2886, 0.4012, 0.6359, 0.2640,\n",
       "          0.1432, 0.1400],\n",
       "         [0.0908, 0.7768, 0.9460, 0.5340, 0.3198, 0.2623, 0.6783, 0.2349,\n",
       "          0.8589, 0.6096],\n",
       "         [0.4103, 0.4208, 0.2557, 0.8428, 0.4656, 0.7158, 0.3926, 0.3101,\n",
       "          0.3126, 0.1072],\n",
       "         [0.8238, 0.9857, 0.5228, 0.8131, 0.4215, 0.2141, 0.4408, 0.4935,\n",
       "          0.7624, 0.6851],\n",
       "         [0.8025, 0.1173, 0.9148, 0.4197, 0.3450, 0.7211, 0.0858, 0.4441,\n",
       "          0.3001, 0.2407]],\n",
       "\n",
       "        [[0.5476, 0.8870, 0.0843, 0.4745, 0.1150, 0.6033, 0.3752, 0.1390,\n",
       "          0.6719, 0.1939],\n",
       "         [0.3876, 0.6765, 0.4742, 0.1300, 0.4539, 0.8930, 0.8830, 0.5100,\n",
       "          0.4287, 0.0923],\n",
       "         [0.1531, 0.2541, 0.2076, 0.9926, 0.9684, 0.1034, 0.4452, 0.5783,\n",
       "          0.7238, 0.9626],\n",
       "         [0.8897, 0.7663, 0.8566, 0.9073, 0.6333, 0.9959, 0.2404, 0.2135,\n",
       "          0.9341, 0.3970],\n",
       "         [0.6974, 0.9085, 0.0868, 0.4143, 0.1393, 0.9332, 0.4206, 0.3227,\n",
       "          0.0577, 0.7118]]])"
      ]
     },
     "execution_count": 12,
     "metadata": {},
     "output_type": "execute_result"
    }
   ],
   "source": [
    "sents_emb"
   ]
  },
  {
   "cell_type": "markdown",
   "metadata": {},
   "source": [
    "Here `sents_emb[i, j]` means the word embedding for the j-th word in the i-th sentence."
   ]
  },
  {
   "cell_type": "code",
   "execution_count": 13,
   "metadata": {},
   "outputs": [
    {
     "data": {
      "text/plain": [
       "tensor([0.8238, 0.9857, 0.5228, 0.8131, 0.4215, 0.2141, 0.4408, 0.4935, 0.7624,\n",
       "        0.6851])"
      ]
     },
     "execution_count": 13,
     "metadata": {},
     "output_type": "execute_result"
    }
   ],
   "source": [
    "#  word embedding for 0-th sentence, 3-rd word\n",
    "sents_emb[0, 3]"
   ]
  },
  {
   "cell_type": "markdown",
   "metadata": {},
   "source": [
    "### Rank-4 Tensor"
   ]
  },
  {
   "cell_type": "markdown",
   "metadata": {},
   "source": [
    "As for a rank-4 (four-dimensional) tensor, this could be a batch of sentences, where each word of each sentence is further devided into different heads of attention keys for multi-head attention (you will encounter this in CW2)."
   ]
  },
  {
   "cell_type": "code",
   "execution_count": 14,
   "metadata": {},
   "outputs": [],
   "source": [
    "sents_emb_keys = torch.rand([2, 5, 4, 10])  # [batch_size = 2, sentence_length = 5, number_of_heads = 4, hidden_size = 10]\n",
    "                                            # Again, we use random vectors for the purpose of demonstration"
   ]
  },
  {
   "cell_type": "markdown",
   "metadata": {},
   "source": [
    "Here `sents_emb_keys[i, j, k]` means the attention key vector in the i-th sentence, j-th word, k-th head."
   ]
  },
  {
   "cell_type": "code",
   "execution_count": 15,
   "metadata": {},
   "outputs": [
    {
     "data": {
      "text/plain": [
       "tensor([0.6944, 0.5882, 0.0796, 0.2964, 0.8965, 0.8227, 0.9334, 0.3030, 0.8997,\n",
       "        0.6403])"
      ]
     },
     "execution_count": 15,
     "metadata": {},
     "output_type": "execute_result"
    }
   ],
   "source": [
    "# key vector for 0-th, 3-rd word, 2-nd head\n",
    "sents_emb_keys[0, 3, 2] "
   ]
  },
  {
   "cell_type": "markdown",
   "metadata": {},
   "source": [
    "### Caveat: always keep in mind the meaning of shapes of tensors"
   ]
  },
  {
   "cell_type": "markdown",
   "metadata": {},
   "source": [
    "It is important to always have a record of the meaning of the shape, otherwise one would quickly forget what each tensor dimension means."
   ]
  },
  {
   "cell_type": "code",
   "execution_count": 16,
   "metadata": {},
   "outputs": [
    {
     "data": {
      "text/plain": [
       "torch.Size([2, 5, 4, 10])"
      ]
     },
     "execution_count": 16,
     "metadata": {},
     "output_type": "execute_result"
    }
   ],
   "source": [
    "sents_emb_keys.size()"
   ]
  },
  {
   "cell_type": "markdown",
   "metadata": {},
   "source": [
    "Question: what does [2, 5, 4, 10] mean?\n",
    "\n",
    "Answer: it means [batch_size = 2, sentence_length = 5, number_of_heads = 4, hidden_size = 10], where `number_of_heads` means the number of heads used in the attention mechanism."
   ]
  },
  {
   "cell_type": "markdown",
   "metadata": {},
   "source": [
    "## Basic Tensor Operation"
   ]
  },
  {
   "cell_type": "markdown",
   "metadata": {},
   "source": [
    "### Indexing"
   ]
  },
  {
   "cell_type": "code",
   "execution_count": 4,
   "metadata": {
    "jupyter": {
     "outputs_hidden": true
    },
    "tags": []
   },
   "outputs": [
    {
     "ename": "NameError",
     "evalue": "name 'sents_emb_keys' is not defined",
     "output_type": "error",
     "traceback": [
      "\u001b[0;31m---------------------------------------------------------------------------\u001b[0m",
      "\u001b[0;31mNameError\u001b[0m                                 Traceback (most recent call last)",
      "\u001b[0;32m<ipython-input-4-3044386a1b7a>\u001b[0m in \u001b[0;36m<module>\u001b[0;34m\u001b[0m\n\u001b[1;32m      1\u001b[0m \u001b[0;31m# first dimension\u001b[0m\u001b[0;34m\u001b[0m\u001b[0;34m\u001b[0m\u001b[0;34m\u001b[0m\u001b[0m\n\u001b[0;32m----> 2\u001b[0;31m \u001b[0msents_emb_keys\u001b[0m\u001b[0;34m[\u001b[0m\u001b[0;36m0\u001b[0m\u001b[0;34m]\u001b[0m   \u001b[0;31m# 0-th sentence, all words, all heads, all hidden\u001b[0m\u001b[0;34m\u001b[0m\u001b[0;34m\u001b[0m\u001b[0m\n\u001b[0m",
      "\u001b[0;31mNameError\u001b[0m: name 'sents_emb_keys' is not defined"
     ]
    }
   ],
   "source": [
    "# first dimension\n",
    "sents_emb_keys[0]   # 0-th sentence, all words, all heads, all hidden"
   ]
  },
  {
   "cell_type": "code",
   "execution_count": 37,
   "metadata": {},
   "outputs": [
    {
     "data": {
      "text/plain": [
       "torch.Size([5, 4, 10])"
      ]
     },
     "execution_count": 37,
     "metadata": {},
     "output_type": "execute_result"
    }
   ],
   "source": [
    "sents_emb_keys[0].size()"
   ]
  },
  {
   "cell_type": "markdown",
   "metadata": {},
   "source": [
    "Q: what does [5, 4, 10] mean?\n",
    "\n",
    "A: for the 0-th sentence, it has [length = 5, number_of_heads = 4, hidden_size = 10]"
   ]
  },
  {
   "cell_type": "markdown",
   "metadata": {},
   "source": [
    "In other words, fixing the index of the first dimension of a four-dimensional tensor will result in a three-dimensional tensor."
   ]
  },
  {
   "cell_type": "code",
   "execution_count": 55,
   "metadata": {
    "collapsed": true,
    "jupyter": {
     "outputs_hidden": true
    },
    "tags": []
   },
   "outputs": [
    {
     "data": {
      "text/plain": [
       "tensor([[[0.2565, 0.9952, 0.2855, 0.7027, 0.4161, 0.5526, 0.5555, 0.8494,\n",
       "          0.6023, 0.8167],\n",
       "         [0.0980, 0.8770, 0.6813, 0.8324, 0.5196, 0.1883, 0.4374, 0.0931,\n",
       "          0.2019, 0.0565],\n",
       "         [0.0558, 0.1330, 0.3457, 0.1030, 0.9027, 0.1974, 0.9539, 0.4972,\n",
       "          0.4778, 0.6240],\n",
       "         [0.6143, 0.5695, 0.7340, 0.9583, 0.6507, 0.9898, 0.4018, 0.9045,\n",
       "          0.9049, 0.9585]],\n",
       "\n",
       "        [[0.1653, 0.9657, 0.1513, 0.5456, 0.2272, 0.2104, 0.1347, 0.7170,\n",
       "          0.3753, 0.6655],\n",
       "         [0.0749, 0.7884, 0.5357, 0.7545, 0.9891, 0.7123, 0.1937, 0.1788,\n",
       "          0.7884, 0.5691],\n",
       "         [0.1666, 0.2801, 0.4154, 0.3058, 0.2337, 0.4778, 0.6624, 0.3030,\n",
       "          0.7515, 0.8743],\n",
       "         [0.8686, 0.7914, 0.2702, 0.8953, 0.6699, 0.4771, 0.1721, 0.8616,\n",
       "          0.7452, 0.9689]]])"
      ]
     },
     "execution_count": 55,
     "metadata": {},
     "output_type": "execute_result"
    }
   ],
   "source": [
    "sents_emb_keys[:, 1, :, :]  # All sentence, 1-st words, all heads, all hidden"
   ]
  },
  {
   "cell_type": "code",
   "execution_count": 42,
   "metadata": {},
   "outputs": [
    {
     "data": {
      "text/plain": [
       "torch.Size([2, 4, 10])"
      ]
     },
     "execution_count": 42,
     "metadata": {},
     "output_type": "execute_result"
    }
   ],
   "source": [
    "sents_emb_keys[:, 1, :, :].size()"
   ]
  },
  {
   "cell_type": "markdown",
   "metadata": {},
   "source": [
    "Q: what does [2, 4, 10] mean?\n",
    "\n",
    "A: when fixing the 1-st word, we have [batch_size = 2, number_of_heads = 4, hidden_size = 10]."
   ]
  },
  {
   "cell_type": "markdown",
   "metadata": {},
   "source": [
    "Similarlly we have:"
   ]
  },
  {
   "cell_type": "code",
   "execution_count": 39,
   "metadata": {
    "collapsed": true,
    "jupyter": {
     "outputs_hidden": true
    },
    "tags": []
   },
   "outputs": [
    {
     "data": {
      "text/plain": [
       "tensor([[[0.9634, 0.3859, 0.6385, 0.1204],\n",
       "         [0.1372, 0.4683, 0.8694, 0.5100],\n",
       "         [0.8190, 0.6909, 0.9366, 0.9601],\n",
       "         [0.1284, 0.5891, 0.2114, 0.6303],\n",
       "         [0.3531, 0.2699, 0.9196, 0.9952]],\n",
       "\n",
       "        [[0.9251, 0.8620, 0.1857, 0.3526],\n",
       "         [0.3475, 0.9417, 0.3291, 0.0049],\n",
       "         [0.1911, 0.0424, 0.2512, 0.0985],\n",
       "         [0.3292, 0.8421, 0.6986, 0.6922],\n",
       "         [0.8767, 0.6509, 0.7392, 0.6896]]])"
      ]
     },
     "execution_count": 39,
     "metadata": {},
     "output_type": "execute_result"
    }
   ],
   "source": [
    "sents_emb_keys[0, :, :, :] # 0-st sentence, all words, all heads, all hidden\n",
    "sents_emb_keys[:, 0, :, :] # all sentence, 0-th word, all heads, all hidden\n",
    "sents_emb_keys[:, :, 0, :] # all sentence, all words, 0-th head, all hidden\n",
    "sents_emb_keys[:, :, :, 0] # all sentence, all words, all heads, 0-th hidden"
   ]
  },
  {
   "cell_type": "code",
   "execution_count": 40,
   "metadata": {},
   "outputs": [
    {
     "name": "stdout",
     "output_type": "stream",
     "text": [
      "torch.Size([5, 4, 10])\n",
      "torch.Size([2, 4, 10])\n",
      "torch.Size([2, 5, 10])\n",
      "torch.Size([2, 5, 4])\n"
     ]
    }
   ],
   "source": [
    "# Q: interpret what the following shape means: \n",
    "# A: --- YOUR ANSWER HERE ----\n",
    "print(sents_emb_keys[0, :, :, :].size())\n",
    "print(sents_emb_keys[:, 0, :, :].size())\n",
    "print(sents_emb_keys[:, :, 0, :].size())\n",
    "print(sents_emb_keys[:, :, :, 0].size())"
   ]
  },
  {
   "cell_type": "markdown",
   "metadata": {},
   "source": [
    "The index can be further fixed at multiple dimensions, for example:"
   ]
  },
  {
   "cell_type": "code",
   "execution_count": 58,
   "metadata": {
    "collapsed": true,
    "jupyter": {
     "outputs_hidden": true
    },
    "tags": []
   },
   "outputs": [
    {
     "name": "stdout",
     "output_type": "stream",
     "text": [
      "tensor([[0.2565, 0.9952, 0.2855, 0.7027, 0.4161, 0.5526, 0.5555, 0.8494, 0.6023,\n",
      "         0.8167],\n",
      "        [0.0980, 0.8770, 0.6813, 0.8324, 0.5196, 0.1883, 0.4374, 0.0931, 0.2019,\n",
      "         0.0565],\n",
      "        [0.0558, 0.1330, 0.3457, 0.1030, 0.9027, 0.1974, 0.9539, 0.4972, 0.4778,\n",
      "         0.6240],\n",
      "        [0.6143, 0.5695, 0.7340, 0.9583, 0.6507, 0.9898, 0.4018, 0.9045, 0.9049,\n",
      "         0.9585]])\n",
      "tensor([0.0558, 0.1330, 0.3457, 0.1030, 0.9027, 0.1974, 0.9539, 0.4972, 0.4778,\n",
      "        0.6240])\n",
      "tensor([[0.0558, 0.1330, 0.3457, 0.1030, 0.9027, 0.1974, 0.9539, 0.4972, 0.4778,\n",
      "         0.6240],\n",
      "        [0.1666, 0.2801, 0.4154, 0.3058, 0.2337, 0.4778, 0.6624, 0.3030, 0.7515,\n",
      "         0.8743]])\n"
     ]
    }
   ],
   "source": [
    "print(sents_emb_keys[0, 1, :, :]) # 0-th sentence, 1-st word, all heads, all hidden\n",
    "print(sents_emb_keys[0, 1, 2, :]) # 0-th sentence, 1-st word, 2-nd head, all hidden\n",
    "print(sents_emb_keys[:, 1, 2, :]) # all sentences, 1-st word, 2-nd head, all hidden"
   ]
  },
  {
   "cell_type": "markdown",
   "metadata": {},
   "source": [
    "Looking at the shape of the resulting tensors:"
   ]
  },
  {
   "cell_type": "code",
   "execution_count": 43,
   "metadata": {},
   "outputs": [
    {
     "data": {
      "text/plain": [
       "torch.Size([2, 10])"
      ]
     },
     "execution_count": 43,
     "metadata": {},
     "output_type": "execute_result"
    }
   ],
   "source": [
    "sents_emb_keys[:, 1, 2, :].size()"
   ]
  },
  {
   "cell_type": "markdown",
   "metadata": {},
   "source": [
    "[2, 10] means [batch_size = 2, hidden_size = 10] when fixing the 1-st word and the 2-nd head."
   ]
  },
  {
   "cell_type": "code",
   "execution_count": 57,
   "metadata": {},
   "outputs": [
    {
     "name": "stdout",
     "output_type": "stream",
     "text": [
      "torch.Size([4, 10])\n",
      "torch.Size([10])\n"
     ]
    }
   ],
   "source": [
    "# Q: interpret what the following shape means: \n",
    "# A: ---- YOUR ANSWER HERE ---\n",
    "print(sents_emb_keys[0, 1, :, :].size())\n",
    "print(sents_emb_keys[0, 1, 2, :].size())"
   ]
  },
  {
   "cell_type": "markdown",
   "metadata": {},
   "source": [
    "### Slicing"
   ]
  },
  {
   "cell_type": "markdown",
   "metadata": {},
   "source": [
    "Slicing takes a range of an index within any dimension:"
   ]
  },
  {
   "cell_type": "code",
   "execution_count": 62,
   "metadata": {
    "collapsed": true,
    "jupyter": {
     "outputs_hidden": true
    },
    "tags": []
   },
   "outputs": [
    {
     "data": {
      "text/plain": [
       "tensor([[[[0.2565, 0.9952, 0.2855, 0.7027, 0.4161, 0.5526, 0.5555, 0.8494,\n",
       "           0.6023, 0.8167],\n",
       "          [0.0980, 0.8770, 0.6813, 0.8324, 0.5196, 0.1883, 0.4374, 0.0931,\n",
       "           0.2019, 0.0565],\n",
       "          [0.0558, 0.1330, 0.3457, 0.1030, 0.9027, 0.1974, 0.9539, 0.4972,\n",
       "           0.4778, 0.6240],\n",
       "          [0.6143, 0.5695, 0.7340, 0.9583, 0.6507, 0.9898, 0.4018, 0.9045,\n",
       "           0.9049, 0.9585]],\n",
       "\n",
       "         [[0.9984, 0.8191, 0.6768, 0.5630, 0.6836, 0.2332, 0.9874, 0.7200,\n",
       "           0.2859, 0.4261],\n",
       "          [0.3903, 0.6026, 0.9944, 0.8326, 0.8898, 0.5297, 0.1403, 0.7895,\n",
       "           0.1042, 0.9310],\n",
       "          [0.3837, 0.3007, 0.8152, 0.3091, 0.4113, 0.5117, 0.0031, 0.3399,\n",
       "           0.9229, 0.7710],\n",
       "          [0.7565, 0.2816, 0.3472, 0.4599, 0.7831, 0.2791, 0.8118, 0.4355,\n",
       "           0.7268, 0.5401]],\n",
       "\n",
       "         [[0.5343, 0.0079, 0.2048, 0.3074, 0.9474, 0.0148, 0.4928, 0.2752,\n",
       "           0.9744, 0.1238],\n",
       "          [0.8444, 0.9804, 0.3297, 0.5908, 0.3706, 0.3828, 0.3094, 0.7239,\n",
       "           0.1286, 0.8170],\n",
       "          [0.5350, 0.7691, 0.3863, 0.2020, 0.5287, 0.1367, 0.5998, 0.9947,\n",
       "           0.8692, 0.9149],\n",
       "          [0.8383, 0.7545, 0.6470, 0.1198, 0.4272, 0.7342, 0.5708, 0.3814,\n",
       "           0.2928, 0.3868]]],\n",
       "\n",
       "\n",
       "        [[[0.1653, 0.9657, 0.1513, 0.5456, 0.2272, 0.2104, 0.1347, 0.7170,\n",
       "           0.3753, 0.6655],\n",
       "          [0.0749, 0.7884, 0.5357, 0.7545, 0.9891, 0.7123, 0.1937, 0.1788,\n",
       "           0.7884, 0.5691],\n",
       "          [0.1666, 0.2801, 0.4154, 0.3058, 0.2337, 0.4778, 0.6624, 0.3030,\n",
       "           0.7515, 0.8743],\n",
       "          [0.8686, 0.7914, 0.2702, 0.8953, 0.6699, 0.4771, 0.1721, 0.8616,\n",
       "           0.7452, 0.9689]],\n",
       "\n",
       "         [[0.7817, 0.8715, 0.9609, 0.3706, 0.2853, 0.8928, 0.6912, 0.6712,\n",
       "           0.4340, 0.8998],\n",
       "          [0.2944, 0.8571, 0.6925, 0.4279, 0.6115, 0.6780, 0.9561, 0.0760,\n",
       "           0.0049, 0.4188],\n",
       "          [0.3657, 0.7807, 0.6851, 0.7543, 0.1108, 0.4015, 0.6298, 0.9122,\n",
       "           0.5781, 0.2445],\n",
       "          [0.4332, 0.0688, 0.8262, 0.1928, 0.6848, 0.9051, 0.1378, 0.8017,\n",
       "           0.5439, 0.1934]],\n",
       "\n",
       "         [[0.0697, 0.9154, 0.5795, 0.8911, 0.1445, 0.3307, 0.9389, 0.5840,\n",
       "           0.2193, 0.1624],\n",
       "          [0.9268, 0.1318, 0.3273, 0.5868, 0.7153, 0.2071, 0.3682, 0.1597,\n",
       "           0.8271, 0.7868],\n",
       "          [0.9227, 0.8827, 0.3119, 0.7694, 0.2679, 0.3040, 0.7560, 0.3828,\n",
       "           0.2762, 0.1735],\n",
       "          [0.1732, 0.9561, 0.0790, 0.0077, 0.4959, 0.5174, 0.1235, 0.6519,\n",
       "           0.2075, 0.4669]]]])"
      ]
     },
     "execution_count": 62,
     "metadata": {},
     "output_type": "execute_result"
    }
   ],
   "source": [
    "sents_emb_keys[:, 1:4, :, :] # all sentences, 1-3 words (right boundary 4 is not inclusive), all heads, all hidden\n",
    "sents_emb_keys[:, :4, :, :]  # all sentences, 0-3 words (when left boundary is unspecified, the default is 0), all heads, all hidden\n",
    "sents_emb_keys[:, 1:, :, :]  # all sentences, 1-last words (when right boundary is unspecified, the default is the last token), all heads, all hidden\n",
    "sents_emb_keys[:, :, 2:4:, :] # all sentences, all words, 2-3 heads, all hidden\n",
    "sents_emb_keys[:, :, :, 1:9] # all sentences, all words, all heads, 1-8 hidden"
   ]
  },
  {
   "cell_type": "markdown",
   "metadata": {},
   "source": [
    "You can also set a stepsize for slicing:"
   ]
  },
  {
   "cell_type": "code",
   "execution_count": 70,
   "metadata": {
    "collapsed": true,
    "jupyter": {
     "outputs_hidden": true
    },
    "tags": []
   },
   "outputs": [
    {
     "data": {
      "text/plain": [
       "tensor([[[[0.6521, 0.3246, 0.3111, 0.2697, 0.5552, 0.8763, 0.6840, 0.0914,\n",
       "           0.1995, 0.5810],\n",
       "          [0.7291, 0.5008, 0.4971, 0.2134, 0.9420, 0.1241, 0.4952, 0.2472,\n",
       "           0.8769, 0.8252],\n",
       "          [0.8650, 0.9792, 0.6818, 0.9030, 0.4958, 0.7130, 0.0967, 0.6244,\n",
       "           0.7655, 0.4095],\n",
       "          [0.8535, 0.8848, 0.5556, 0.8642, 0.9925, 0.3077, 0.1043, 0.8635,\n",
       "           0.5151, 0.5593]],\n",
       "\n",
       "         [[0.9984, 0.8191, 0.6768, 0.5630, 0.6836, 0.2332, 0.9874, 0.7200,\n",
       "           0.2859, 0.4261],\n",
       "          [0.3903, 0.6026, 0.9944, 0.8326, 0.8898, 0.5297, 0.1403, 0.7895,\n",
       "           0.1042, 0.9310],\n",
       "          [0.3837, 0.3007, 0.8152, 0.3091, 0.4113, 0.5117, 0.0031, 0.3399,\n",
       "           0.9229, 0.7710],\n",
       "          [0.7565, 0.2816, 0.3472, 0.4599, 0.7831, 0.2791, 0.8118, 0.4355,\n",
       "           0.7268, 0.5401]],\n",
       "\n",
       "         [[0.2395, 0.7648, 0.2465, 0.8468, 0.1039, 0.0613, 0.9354, 0.5005,\n",
       "           0.6134, 0.3457],\n",
       "          [0.6280, 0.0104, 0.1284, 0.3472, 0.3275, 0.3812, 0.7000, 0.4268,\n",
       "           0.6087, 0.9407],\n",
       "          [0.9414, 0.8712, 0.7597, 0.9645, 0.4895, 0.5848, 0.0260, 0.1066,\n",
       "           0.0282, 0.4896],\n",
       "          [0.9755, 0.9440, 0.3704, 0.9732, 0.1753, 0.8657, 0.3703, 0.5814,\n",
       "           0.6222, 0.0419]]],\n",
       "\n",
       "\n",
       "        [[[0.1025, 0.6387, 0.0027, 0.6100, 0.9511, 0.9956, 0.9138, 0.4353,\n",
       "           0.0430, 0.2796],\n",
       "          [0.5632, 0.7684, 0.2373, 0.6559, 0.1192, 0.9709, 0.5268, 0.2599,\n",
       "           0.5712, 0.6036],\n",
       "          [0.4976, 0.0926, 0.8119, 0.1754, 0.8424, 0.7122, 0.0943, 0.9887,\n",
       "           0.0101, 0.4607],\n",
       "          [0.5302, 0.1163, 0.3302, 0.7729, 0.3729, 0.8947, 0.6079, 0.0069,\n",
       "           0.4425, 0.2988]],\n",
       "\n",
       "         [[0.7817, 0.8715, 0.9609, 0.3706, 0.2853, 0.8928, 0.6912, 0.6712,\n",
       "           0.4340, 0.8998],\n",
       "          [0.2944, 0.8571, 0.6925, 0.4279, 0.6115, 0.6780, 0.9561, 0.0760,\n",
       "           0.0049, 0.4188],\n",
       "          [0.3657, 0.7807, 0.6851, 0.7543, 0.1108, 0.4015, 0.6298, 0.9122,\n",
       "           0.5781, 0.2445],\n",
       "          [0.4332, 0.0688, 0.8262, 0.1928, 0.6848, 0.9051, 0.1378, 0.8017,\n",
       "           0.5439, 0.1934]],\n",
       "\n",
       "         [[0.7072, 0.9197, 0.5625, 0.0984, 0.5385, 0.9616, 0.1635, 0.9801,\n",
       "           0.8671, 0.9757],\n",
       "          [0.8067, 0.4286, 0.1874, 0.7268, 0.3698, 0.8322, 0.4310, 0.9542,\n",
       "           0.9919, 0.8286],\n",
       "          [0.1055, 0.4429, 0.4369, 0.5641, 0.8046, 0.9887, 0.6712, 0.8997,\n",
       "           0.1367, 0.6113],\n",
       "          [0.5016, 0.7165, 0.4288, 0.5249, 0.6682, 0.5682, 0.2996, 0.5374,\n",
       "           0.0325, 0.8489]]]])"
      ]
     },
     "execution_count": 70,
     "metadata": {},
     "output_type": "execute_result"
    }
   ],
   "source": [
    "sents_emb_keys[:, 0::2, :, :] # all sentence, 0, 2, 4 words"
   ]
  },
  {
   "cell_type": "code",
   "execution_count": 69,
   "metadata": {
    "collapsed": true,
    "jupyter": {
     "outputs_hidden": true
    },
    "tags": []
   },
   "outputs": [
    {
     "data": {
      "text/plain": [
       "tensor([[[[0.2565, 0.9952, 0.2855, 0.7027, 0.4161, 0.5526, 0.5555, 0.8494,\n",
       "           0.6023, 0.8167],\n",
       "          [0.0980, 0.8770, 0.6813, 0.8324, 0.5196, 0.1883, 0.4374, 0.0931,\n",
       "           0.2019, 0.0565],\n",
       "          [0.0558, 0.1330, 0.3457, 0.1030, 0.9027, 0.1974, 0.9539, 0.4972,\n",
       "           0.4778, 0.6240],\n",
       "          [0.6143, 0.5695, 0.7340, 0.9583, 0.6507, 0.9898, 0.4018, 0.9045,\n",
       "           0.9049, 0.9585]],\n",
       "\n",
       "         [[0.5343, 0.0079, 0.2048, 0.3074, 0.9474, 0.0148, 0.4928, 0.2752,\n",
       "           0.9744, 0.1238],\n",
       "          [0.8444, 0.9804, 0.3297, 0.5908, 0.3706, 0.3828, 0.3094, 0.7239,\n",
       "           0.1286, 0.8170],\n",
       "          [0.5350, 0.7691, 0.3863, 0.2020, 0.5287, 0.1367, 0.5998, 0.9947,\n",
       "           0.8692, 0.9149],\n",
       "          [0.8383, 0.7545, 0.6470, 0.1198, 0.4272, 0.7342, 0.5708, 0.3814,\n",
       "           0.2928, 0.3868]]],\n",
       "\n",
       "\n",
       "        [[[0.1653, 0.9657, 0.1513, 0.5456, 0.2272, 0.2104, 0.1347, 0.7170,\n",
       "           0.3753, 0.6655],\n",
       "          [0.0749, 0.7884, 0.5357, 0.7545, 0.9891, 0.7123, 0.1937, 0.1788,\n",
       "           0.7884, 0.5691],\n",
       "          [0.1666, 0.2801, 0.4154, 0.3058, 0.2337, 0.4778, 0.6624, 0.3030,\n",
       "           0.7515, 0.8743],\n",
       "          [0.8686, 0.7914, 0.2702, 0.8953, 0.6699, 0.4771, 0.1721, 0.8616,\n",
       "           0.7452, 0.9689]],\n",
       "\n",
       "         [[0.0697, 0.9154, 0.5795, 0.8911, 0.1445, 0.3307, 0.9389, 0.5840,\n",
       "           0.2193, 0.1624],\n",
       "          [0.9268, 0.1318, 0.3273, 0.5868, 0.7153, 0.2071, 0.3682, 0.1597,\n",
       "           0.8271, 0.7868],\n",
       "          [0.9227, 0.8827, 0.3119, 0.7694, 0.2679, 0.3040, 0.7560, 0.3828,\n",
       "           0.2762, 0.1735],\n",
       "          [0.1732, 0.9561, 0.0790, 0.0077, 0.4959, 0.5174, 0.1235, 0.6519,\n",
       "           0.2075, 0.4669]]]])"
      ]
     },
     "execution_count": 69,
     "metadata": {},
     "output_type": "execute_result"
    }
   ],
   "source": [
    "sents_emb_keys[:, 1::2, :, :] # # all sentence, 1, 3 words"
   ]
  },
  {
   "cell_type": "code",
   "execution_count": 71,
   "metadata": {
    "collapsed": true,
    "jupyter": {
     "outputs_hidden": true
    },
    "tags": []
   },
   "outputs": [
    {
     "data": {
      "text/plain": [
       "tensor([[[[0.6521, 0.3246, 0.3111, 0.2697, 0.5552, 0.8763, 0.6840, 0.0914,\n",
       "           0.1995, 0.5810],\n",
       "          [0.7291, 0.5008, 0.4971, 0.2134, 0.9420, 0.1241, 0.4952, 0.2472,\n",
       "           0.8769, 0.8252],\n",
       "          [0.8650, 0.9792, 0.6818, 0.9030, 0.4958, 0.7130, 0.0967, 0.6244,\n",
       "           0.7655, 0.4095],\n",
       "          [0.8535, 0.8848, 0.5556, 0.8642, 0.9925, 0.3077, 0.1043, 0.8635,\n",
       "           0.5151, 0.5593]],\n",
       "\n",
       "         [[0.9984, 0.8191, 0.6768, 0.5630, 0.6836, 0.2332, 0.9874, 0.7200,\n",
       "           0.2859, 0.4261],\n",
       "          [0.3903, 0.6026, 0.9944, 0.8326, 0.8898, 0.5297, 0.1403, 0.7895,\n",
       "           0.1042, 0.9310],\n",
       "          [0.3837, 0.3007, 0.8152, 0.3091, 0.4113, 0.5117, 0.0031, 0.3399,\n",
       "           0.9229, 0.7710],\n",
       "          [0.7565, 0.2816, 0.3472, 0.4599, 0.7831, 0.2791, 0.8118, 0.4355,\n",
       "           0.7268, 0.5401]]],\n",
       "\n",
       "\n",
       "        [[[0.1025, 0.6387, 0.0027, 0.6100, 0.9511, 0.9956, 0.9138, 0.4353,\n",
       "           0.0430, 0.2796],\n",
       "          [0.5632, 0.7684, 0.2373, 0.6559, 0.1192, 0.9709, 0.5268, 0.2599,\n",
       "           0.5712, 0.6036],\n",
       "          [0.4976, 0.0926, 0.8119, 0.1754, 0.8424, 0.7122, 0.0943, 0.9887,\n",
       "           0.0101, 0.4607],\n",
       "          [0.5302, 0.1163, 0.3302, 0.7729, 0.3729, 0.8947, 0.6079, 0.0069,\n",
       "           0.4425, 0.2988]],\n",
       "\n",
       "         [[0.7817, 0.8715, 0.9609, 0.3706, 0.2853, 0.8928, 0.6912, 0.6712,\n",
       "           0.4340, 0.8998],\n",
       "          [0.2944, 0.8571, 0.6925, 0.4279, 0.6115, 0.6780, 0.9561, 0.0760,\n",
       "           0.0049, 0.4188],\n",
       "          [0.3657, 0.7807, 0.6851, 0.7543, 0.1108, 0.4015, 0.6298, 0.9122,\n",
       "           0.5781, 0.2445],\n",
       "          [0.4332, 0.0688, 0.8262, 0.1928, 0.6848, 0.9051, 0.1378, 0.8017,\n",
       "           0.5439, 0.1934]]]])"
      ]
     },
     "execution_count": 71,
     "metadata": {},
     "output_type": "execute_result"
    }
   ],
   "source": [
    "sents_emb_keys[:, 0:4:2, :, :] # # all sentence, 0, 2 words"
   ]
  },
  {
   "cell_type": "markdown",
   "metadata": {},
   "source": [
    "As you can see, the slicing syntax is `some_tensor[start_index : end_index : step_size]`."
   ]
  },
  {
   "cell_type": "code",
   "execution_count": 64,
   "metadata": {
    "collapsed": true,
    "jupyter": {
     "outputs_hidden": true
    },
    "tags": []
   },
   "outputs": [
    {
     "name": "stdout",
     "output_type": "stream",
     "text": [
      "torch.Size([2, 3, 4, 10])\n",
      "torch.Size([2, 5, 1, 10])\n"
     ]
    }
   ],
   "source": [
    "# Q: interpret what the following shape means:\n",
    "# A: ---- YOUR ANSWER HERE ----\n",
    "print(sents_emb_keys[:, 1:4, :, :].size())\n",
    "print(sents_emb_keys[:, :, 3:, :].size())"
   ]
  },
  {
   "cell_type": "markdown",
   "metadata": {},
   "source": [
    "### Concatenation"
   ]
  },
  {
   "cell_type": "markdown",
   "metadata": {},
   "source": [
    "To concatenate two tensors within a specified dimension:"
   ]
  },
  {
   "cell_type": "code",
   "execution_count": 78,
   "metadata": {},
   "outputs": [],
   "source": [
    "sent_1 = torch.tensor([[1, 2, 3]]) # size = [1, 3]\n",
    "sent_2 = torch.tensor([[4, 5, 6]]) # size = [1, 3]"
   ]
  },
  {
   "cell_type": "code",
   "execution_count": 80,
   "metadata": {},
   "outputs": [
    {
     "name": "stdout",
     "output_type": "stream",
     "text": [
      "tensor([[1, 2, 3],\n",
      "        [4, 5, 6]])\n",
      "torch.Size([2, 3])\n"
     ]
    }
   ],
   "source": [
    "# concatenate two sentences into a batch\n",
    "sents = torch.cat([sent_1, sent_2], dim=0)\n",
    "print(sents)\n",
    "print(sents.size())"
   ]
  },
  {
   "cell_type": "code",
   "execution_count": 82,
   "metadata": {},
   "outputs": [
    {
     "name": "stdout",
     "output_type": "stream",
     "text": [
      "tensor([[1, 2, 3],\n",
      "        [4, 5, 6]])\n",
      "torch.Size([2, 3])\n"
     ]
    }
   ],
   "source": [
    "# concat the second sentence to the end of the first sentence\n",
    "sents = torch.cat([sent_1, sent_2], dim=0)\n",
    "print(sents)\n",
    "print(sents.size())"
   ]
  },
  {
   "cell_type": "markdown",
   "metadata": {},
   "source": [
    "### Reshaping"
   ]
  },
  {
   "cell_type": "markdown",
   "metadata": {},
   "source": [
    "Usually reshaping has two effects: (a) spliting tensors or (b) concatenating tensors."
   ]
  },
  {
   "cell_type": "code",
   "execution_count": 85,
   "metadata": {},
   "outputs": [
    {
     "name": "stdout",
     "output_type": "stream",
     "text": [
      "tensor([[1, 2, 3],\n",
      "        [4, 5, 6]])\n",
      "torch.Size([2, 3])\n",
      "tensor([1, 2, 3, 4, 5, 6])\n",
      "torch.Size([6])\n"
     ]
    }
   ],
   "source": [
    "# concatenating tensors\n",
    "print(sents)\n",
    "print(sents.size())\n",
    "sents_cat = sents.view(6)\n",
    "print(sents_cat)\n",
    "print(sents_cat.size()) # pay attention how the shape of the tensor changes from [2, 3] -> [6]"
   ]
  },
  {
   "cell_type": "code",
   "execution_count": 87,
   "metadata": {},
   "outputs": [
    {
     "name": "stdout",
     "output_type": "stream",
     "text": [
      "tensor([[1, 2, 3],\n",
      "        [4, 5, 6]])\n",
      "torch.Size([2, 3])\n",
      "tensor([[1, 2],\n",
      "        [3, 4],\n",
      "        [5, 6]])\n",
      "torch.Size([3, 2])\n"
     ]
    }
   ],
   "source": [
    "# spliting tensors\n",
    "sents_split_1 = sents_cat.view(2, 3)\n",
    "print(sents_split_1)\n",
    "print(sents_split_1.size())\n",
    "sents_split_2 = sents_cat.view(3, 2)\n",
    "print(sents_split_2)\n",
    "print(sents_split_2.size())"
   ]
  },
  {
   "cell_type": "markdown",
   "metadata": {},
   "source": [
    "### Transposing"
   ]
  },
  {
   "cell_type": "markdown",
   "metadata": {},
   "source": [
    "Transpose the two dimensions of a tensor:"
   ]
  },
  {
   "cell_type": "code",
   "execution_count": 92,
   "metadata": {},
   "outputs": [
    {
     "name": "stdout",
     "output_type": "stream",
     "text": [
      "tensor([[1, 2, 3],\n",
      "        [4, 5, 6]])\n",
      "tensor([[1, 4],\n",
      "        [2, 5],\n",
      "        [3, 6]])\n"
     ]
    }
   ],
   "source": [
    "print(sents) # shape = [batch, length]\n",
    "sents_transposed = sents.transpose(0, 1)\n",
    "print(sents_transposed) # shape = [length, batch]"
   ]
  },
  {
   "cell_type": "markdown",
   "metadata": {},
   "source": [
    "### Caveat: pay close attention to the difference between transposing and reshaping\n",
    "\n",
    "Generally, reshaping does not change the order of the items within the tensor, while tranposing changes the order."
   ]
  },
  {
   "cell_type": "code",
   "execution_count": 99,
   "metadata": {},
   "outputs": [
    {
     "name": "stdout",
     "output_type": "stream",
     "text": [
      "tensor([1, 2, 3, 4, 5, 6])\n",
      "tensor([[1, 2, 3],\n",
      "        [4, 5, 6]])\n",
      "tensor([[1, 2],\n",
      "        [3, 4],\n",
      "        [5, 6]])\n",
      "tensor([[1, 4],\n",
      "        [2, 5],\n",
      "        [3, 6]])\n",
      "tensor([1, 4, 2, 5, 3, 6])\n"
     ]
    }
   ],
   "source": [
    "# view does not change order\n",
    "print(sents.view(6))\n",
    "print(sents.view(2, 3))\n",
    "print(sents.view(3, 2))\n",
    "\n",
    "# transposing changes the order\n",
    "print(sents.transpose(0, 1))\n",
    "print(sents.transpose(0, 1).reshape(6))"
   ]
  },
  {
   "cell_type": "markdown",
   "metadata": {},
   "source": [
    "## Basic Tensor Computations"
   ]
  },
  {
   "cell_type": "markdown",
   "metadata": {},
   "source": [
    "### Tensor add scalar"
   ]
  },
  {
   "cell_type": "code",
   "execution_count": 103,
   "metadata": {},
   "outputs": [
    {
     "name": "stdout",
     "output_type": "stream",
     "text": [
      "tensor([[0.8883, 0.1146, 0.6120, 0.8524, 0.0173],\n",
      "        [0.4917, 0.2352, 0.0226, 0.0530, 0.0636],\n",
      "        [0.4203, 0.9898, 0.9779, 0.4225, 0.4789]])\n",
      "tensor([[1.8883, 1.1146, 1.6120, 1.8524, 1.0173],\n",
      "        [1.4917, 1.2352, 1.0226, 1.0530, 1.0636],\n",
      "        [1.4203, 1.9898, 1.9779, 1.4225, 1.4789]])\n",
      "tensor([[-0.1117, -0.8854, -0.3880, -0.1476, -0.9827],\n",
      "        [-0.5083, -0.7648, -0.9774, -0.9470, -0.9364],\n",
      "        [-0.5797, -0.0102, -0.0221, -0.5775, -0.5211]])\n",
      "tensor([[1.7766, 0.2293, 1.2239, 1.7049, 0.0346],\n",
      "        [0.9834, 0.4704, 0.0452, 0.1060, 0.1273],\n",
      "        [0.8405, 1.9796, 1.9559, 0.8451, 0.9578]])\n",
      "tensor([[0.4442, 0.0573, 0.3060, 0.4262, 0.0087],\n",
      "        [0.2459, 0.1176, 0.0113, 0.0265, 0.0318],\n",
      "        [0.2101, 0.4949, 0.4890, 0.2113, 0.2395]])\n"
     ]
    }
   ],
   "source": [
    "# addition, differences, multiplication, division\n",
    "sent_emb = torch.rand(3, 5)    # [length = 5, hidden = 10] \n",
    "                                # we assume we work with one sentence embedding where there are 3 words and \n",
    "                                # each word is associated with an embedding vector with length 5\n",
    "print(sent_emb)\n",
    "\n",
    "# the following operations are applied to every entry within the tensor\n",
    "print(sent_emb + 1)\n",
    "print(sent_emb - 1)\n",
    "print(sent_emb * 2)\n",
    "print(sent_emb / 2)"
   ]
  },
  {
   "cell_type": "markdown",
   "metadata": {},
   "source": [
    "### Vector dot product"
   ]
  },
  {
   "cell_type": "code",
   "execution_count": 166,
   "metadata": {},
   "outputs": [],
   "source": [
    "# vector dot-product\n",
    "word_1 = torch.rand(5)\n",
    "word_2 = torch.rand(5)\n",
    "\n",
    "prod = (word_1 * word_2).sum() # element-wise multiplication then sum "
   ]
  },
  {
   "cell_type": "markdown",
   "metadata": {},
   "source": [
    "### Matrix multiplication"
   ]
  },
  {
   "cell_type": "code",
   "execution_count": 106,
   "metadata": {},
   "outputs": [
    {
     "name": "stdout",
     "output_type": "stream",
     "text": [
      "torch.Size([2, 10])\n"
     ]
    }
   ],
   "source": [
    "# matrix mulplication\n",
    "M1 = torch.rand(2, 5)\n",
    "M2 = torch.rand(5, 10)\n",
    "\n",
    "prod = torch.matmul(M1, M2)\n",
    "print(prod.size()) # shape changes: [2, 5] * [5, 10] -> [2, 10]"
   ]
  },
  {
   "cell_type": "markdown",
   "metadata": {},
   "source": [
    "## Alignment and broadcasting"
   ]
  },
  {
   "cell_type": "markdown",
   "metadata": {},
   "source": [
    "### Rule 1: if the same shape, then element-wise computation"
   ]
  },
  {
   "cell_type": "code",
   "execution_count": 167,
   "metadata": {},
   "outputs": [],
   "source": [
    "# adding two words, each word is a vector\n",
    "word_1 = torch.rand(5) # hidden_size = 5\n",
    "word_2 = torch.rand(5)\n",
    "result = word_1 + word_2 # result[i] = word_1[i] + word_2[i] "
   ]
  },
  {
   "cell_type": "code",
   "execution_count": 168,
   "metadata": {},
   "outputs": [],
   "source": [
    "# adding two sentences, each sentence is a sequence of word vectors\n",
    "sent_1 = torch.rand(3, 5) # sent_length = 3, hidden_size = 5\n",
    "sent_2 = torch.rand(3, 5)\n",
    "result = sent_1 + sent_2 # result[i, j] = sent_1[i, j] + sent_2[i, j]"
   ]
  },
  {
   "cell_type": "markdown",
   "metadata": {},
   "source": [
    "### Rule 2: if different shape, first align, then element-wise computation"
   ]
  },
  {
   "cell_type": "code",
   "execution_count": 169,
   "metadata": {},
   "outputs": [
    {
     "name": "stdout",
     "output_type": "stream",
     "text": [
      "tensor([[1, 2, 3],\n",
      "        [2, 3, 4]])\n"
     ]
    }
   ],
   "source": [
    "# Example 1. adding a single word to every word within a sentence\n",
    "word = torch.tensor([1, 2, 3])              # [hidden = 3]\n",
    "sent = torch.tensor([[0, 0, 0], \n",
    "                     [1, 1, 1]]) # [sent_length = 2, hidden = 3]\n",
    "\n",
    "result = word.view(1, 3) + sent # underlying process: \n",
    "                                # step 1, alignment\n",
    "                                # word.size() = [1, 3]\n",
    "                                #                |  |   alignment\n",
    "                                # sent.size() = [2, 3]\n",
    "                                #\n",
    "                                # step 2, repeat where dimension size is 1\n",
    "                                # word_repeat = word.repeat([2, 1]) -- 0th dim repeat twice, first dim repeat 1 time (= no repeat)\n",
    "                                #\n",
    "                                # step 3, align again\n",
    "                                # align again\n",
    "                                # word_repeat.size() = [2, 3]\n",
    "                                #                       |  |   alignmeng, note that the 0th dim of word is repeated\n",
    "                                # sent.size()        = [2, 3]\n",
    "                                #\n",
    "                                # step 4, element-wise addition. \n",
    "                                # result = word_repeat + sent\n",
    "print(result)  # this is basically broadcasing the given word to each word in the given sentence"
   ]
  },
  {
   "cell_type": "code",
   "execution_count": 3,
   "metadata": {},
   "outputs": [
    {
     "name": "stdout",
     "output_type": "stream",
     "text": [
      "tensor([[[ 1,  2,  3],\n",
      "         [ 2,  3,  4],\n",
      "         [ 3,  4,  5]],\n",
      "\n",
      "        [[ 7,  8,  9],\n",
      "         [ 8,  9, 10],\n",
      "         [ 9, 10, 11]]])\n",
      "torch.Size([2, 3, 3])\n"
     ]
    }
   ],
   "source": [
    "# Example 2. adding two words to two sentences, respectively\n",
    "words = torch.tensor([[1, 2, 3], [4, 5, 6]])                      # batch_size = 2, hidden_size = 3\n",
    "sents = torch.tensor([\n",
    "                        [[0, 0, 0], [1, 1, 1], [2, 2, 2]], \n",
    "                        [[3, 3, 3], [4, 4, 4], [5, 5, 5]],        # batch_size = 2, length = 2, hidden_size = 3\n",
    "                    ])\n",
    "\n",
    "# we aim to add words[0] to sents[0] and words[1] to sents[1]\n",
    "result = words.view(2, 1, 3) + sents    # underlying process: \n",
    "                                        # \n",
    "                                        # step 1, alignment\n",
    "                                        # words.size() = [2, 1, 3]   two words, each has hidden dim = 3\n",
    "                                        #                 |  |  |    alignment\n",
    "                                        # sents.size() = [2, 2, 3]   two sentences, each has two words, each word has hidden dim = 3\n",
    "                                        # \n",
    "                                        # step 2, repeat where dimension size is 1 for broadcasting\n",
    "                                        # repeat words along 1st dimension\n",
    "                                        # words_repeat = words.repeat([1, 2, 1]) -- 0th dim repeat 1 time, 1st dim repeat 2 times, 3rd dim repeat 1 time\n",
    "                                        # \n",
    "                                        # step 3, align again\n",
    "                                        # words_repeat.size() = [2, 2, 3]\n",
    "                                        #                        |  |  |   alignment, note that the 1st dim of words is repeated\n",
    "                                        # sents.size()        = [2, 2, 3]\n",
    "                                        #\n",
    "                                        # step 4, element-wise addition\n",
    "                                        # result = words_repeat + sents\n",
    "print(result)\n",
    "print(result.size())"
   ]
  },
  {
   "cell_type": "code",
   "execution_count": 125,
   "metadata": {},
   "outputs": [
    {
     "name": "stdout",
     "output_type": "stream",
     "text": [
      "tensor([[ 4,  5,  6],\n",
      "        [ 8, 10, 12],\n",
      "        [12, 15, 18]])\n"
     ]
    }
   ],
   "source": [
    "# Example 3, outer product\n",
    "# the outer product of two vectors is a matrix\n",
    "v1 = torch.tensor([1, 2, 3])\n",
    "v2 = torch.tensor([4, 5, 6])\n",
    "\n",
    "outer_prod = v1.view(3, 1) * v2.view(1, 3)  # underlying process: \n",
    "                                            # \n",
    "                                            # step 1, alignment\n",
    "                                            # v1.size() = [3, 1]  \n",
    "                                            #              |  |  alignment\n",
    "                                            # v2.size() = [1, 3] \n",
    "                                            # \n",
    "                                            # step 2, repeat where dimension size is 1\n",
    "                                            # repeat v1 along 1st dimension\n",
    "                                            # v1_repeat = v1.repeat([1, 3]) -- 0th dim repeat 1 time, 1st repeat 3 times\n",
    "                                            # repeat v2 along 0th dimension\n",
    "                                            # v2_repeat = v2.repeat([3, 1]) -- 0th dim repeat 3 times, 1st repeat 1 time\n",
    "                                            #\n",
    "                                            # step 3, align again and element-wise computation\n",
    "                                            # v1_repeat.size() = [3, 3]\n",
    "                                            #                     |  | \n",
    "                                            # v2_repeat.size() = [3, 3]\n",
    "                                            #\n",
    "                                            # step 4, elementwise multiplication\n",
    "                                            # outer_prod = v1_repeat * v2_repeat\n",
    "\n",
    "print(outer_prod)"
   ]
  },
  {
   "cell_type": "code",
   "execution_count": null,
   "metadata": {},
   "outputs": [],
   "source": [
    "# Pay attention to the shape of the tensor, again\n",
    "v1 = torch.tensor([1, 2, 3])\n",
    "v2 = torch.tensor([4, 5, 6])\n",
    "\n",
    "# Q: what is the differences between the following two operations: \n",
    "# A: ---- YOUR ANSWER HERE ----\n",
    "result_1 = v1.view(3, 1) * v2.view(1, 3)\n",
    "result_2 = v1.view(1, 3) * v2.view(3, 1)"
   ]
  },
  {
   "cell_type": "markdown",
   "metadata": {},
   "source": [
    "# Section 2. Batchified Tensor Computation"
   ]
  },
  {
   "cell_type": "markdown",
   "metadata": {},
   "source": [
    "In this section, we will study how to compute with tensors whose first dimension is the batch size."
   ]
  },
  {
   "cell_type": "markdown",
   "metadata": {},
   "source": [
    "## Batch matrix multiplication"
   ]
  },
  {
   "cell_type": "code",
   "execution_count": 126,
   "metadata": {},
   "outputs": [
    {
     "name": "stdout",
     "output_type": "stream",
     "text": [
      "torch.Size([2, 5, 20])\n"
     ]
    }
   ],
   "source": [
    "# linear transform of the word embeddings of two sentences\n",
    "sents = torch.rand(2, 5, 10) # [batch_size = 2, length = 2, hidden_size= 10]\n",
    "weight = torch.rand(10, 20)  # we transform each word from a length-10 vector to a length-20 vector\n",
    "\n",
    "sents_transform = torch.matmul(sents, weight)   # underlying process:\n",
    "                                                # sents.size() = [2,  5, 10]\n",
    "                                                #                 |       |         alignment. \n",
    "                                                # view weight as [1,     10, 20]    repeat where dimension is 1\n",
    "                                                # matrix multiplication happens at the final two dimensions, [2, 5, 10] x [10, 20] -> [2, 5, 20]\n",
    "print(sents_transform.size())"
   ]
  },
  {
   "cell_type": "markdown",
   "metadata": {},
   "source": [
    "## Retrieving embedding vectors from an embedding matrix"
   ]
  },
  {
   "cell_type": "code",
   "execution_count": 13,
   "metadata": {},
   "outputs": [
    {
     "name": "stdout",
     "output_type": "stream",
     "text": [
      "torch.Size([2, 5])\n",
      "torch.Size([2, 5, 10])\n",
      "tensor([0.5894, 0.4493, 0.0103, 0.4794, 0.9032, 0.1871, 0.7477, 0.2201, 0.6163,\n",
      "        0.0064])\n",
      "tensor([0.5894, 0.4493, 0.0103, 0.4794, 0.9032, 0.1871, 0.7477, 0.2201, 0.6163,\n",
      "        0.0064])\n",
      "tensor([0.5246, 0.6199, 0.2446, 0.8485, 0.2647, 0.0523, 0.4590, 0.7056, 0.8788,\n",
      "        0.3406])\n",
      "tensor([0.5246, 0.6199, 0.2446, 0.8485, 0.2647, 0.0523, 0.4590, 0.7056, 0.8788,\n",
      "        0.3406])\n"
     ]
    }
   ],
   "source": [
    "# in deep learning practice, usually we start with sequences of word index\n",
    "sent = torch.tensor([[10, 25, 59, 77, 88],  # suppose [10, 25, 59, 77, 88] means = ['Oh', I', 'really', 'like', 'cats']\n",
    "                     [16, 29, 40, 56, 3]]   # suppose [16, 29, 40, 56, 3] means = ['Jack', 'does', 'not', 'have', 'dogs']\n",
    "                    )\n",
    "print(sent.size())\n",
    "\n",
    "# neural networks requires words being represented as embedding vectors, not index. So we store an embedding matrix for every word\n",
    "vocab_size = 100\n",
    "hidden_size = 10\n",
    "embedding_matrix = torch.rand([vocab_size, hidden_size])\n",
    "\n",
    "# converting index to embeddings consists of two steps:\n",
    "# 1. convert index representation to one-hot representation\n",
    "sent_one_hot = F.one_hot(sent, vocab_size).float()\n",
    "# 2. batch matrix multiplication between the one hot representation and the embedding matrix\n",
    "#    NOTE: when multiply a one-hot vector to a matrix, the one-hot vector essentially retrieves the corresponding row vector from the matrix\n",
    "sent_emb = torch.matmul(sent_one_hot, embedding_matrix) # underlying process:\n",
    "                                                        # sent_one_hot.size() =    [2,  5, 100]\n",
    "                                                        #                           |       |         alignment. \n",
    "                                                        # view embedding_matrix as [1,     100, 10]   repeat where dimension is 1\n",
    "                                                        # matrix multiplication happens at the final two dimensions, [2, 5, 100] x [100, 10] -> [2, 5, 10]\n",
    "                                                        # In this case, multiplying an one-hot vector to a matrix means to retrieve the corresponding \n",
    "                                                        # row vector from the matrix\n",
    "\n",
    "print(sent_emb.size())\n",
    "\n",
    "# the following show the embedding vector from word index 10 is retrieved for sent[0, 0]\n",
    "print(sent_emb[0, 0])\n",
    "print(embedding_matrix[10])\n",
    "\n",
    "# similarlly the embedding vector from word index 25 is retrieved for sent[0, 1]\n",
    "print(sent_emb[0, 1])\n",
    "print(embedding_matrix[25])\n",
    "\n",
    "# ---- YOUR TASK ----\n",
    "# verify how one-hot vector can retrieve the corresponding row vector from the matrix"
   ]
  },
  {
   "cell_type": "markdown",
   "metadata": {},
   "source": [
    "## Linear transform of the word embeddings"
   ]
  },
  {
   "cell_type": "code",
   "execution_count": 128,
   "metadata": {},
   "outputs": [
    {
     "name": "stdout",
     "output_type": "stream",
     "text": [
      "torch.Size([2, 5, 4, 20])\n"
     ]
    }
   ],
   "source": [
    "# linear transform of the word embeddings of two sentences where each sentence has 4 attention heads\n",
    "# this computation is performed in multi-head attention in CW2\n",
    "\n",
    "sents = torch.rand(2, 5, 4, 10) # [batch_size = 2, length = 2, number_of_heads = 4, hidden_size= 10]\n",
    "weight = torch.rand(10, 20)  # we transform each word from a length-10 vector to a length-20 vector\n",
    "\n",
    "sents_transform = torch.matmul(sents, weight)   # underlying process:\n",
    "                                                # sents.size() = [2,  5, 4, 10]\n",
    "                                                #                 |   |      |         alignment. \n",
    "                                                # view weight as [1,  1,    10, 20]    repeat where dimension is 1\n",
    "                                                # matrix multiplication happens at the final two dimensions, [2, 5, 4, 10] * [10, 20] -> [2, 5, 4, 20]\n",
    "print(sents_transform.size())"
   ]
  },
  {
   "cell_type": "markdown",
   "metadata": {},
   "source": [
    "## Similarity: one single vector v.s. a batch of sentence "
   ]
  },
  {
   "cell_type": "code",
   "execution_count": 129,
   "metadata": {},
   "outputs": [
    {
     "name": "stdout",
     "output_type": "stream",
     "text": [
      "torch.Size([2, 5])\n"
     ]
    }
   ],
   "source": [
    "# similarity: one single vector v.s. a batch of sentence representations\n",
    "query = torch.rand(10)\n",
    "sents = torch.rand(2, 5, 10)\n",
    "\n",
    "# suppose we would like to compute the dot-product (as a measure of similarity) between the query vector and all words within all sentences\n",
    "similarity = (query.view(1, 1, 10) * sents).sum(dim=2)\n",
    "print(similarity.size())  # similarity[i, j] means the vector dot-product between the query vector and the word j at sentence i"
   ]
  },
  {
   "cell_type": "markdown",
   "metadata": {},
   "source": [
    "## Similarity: a batch of vectors v.s. a batch of sentence  "
   ]
  },
  {
   "cell_type": "code",
   "execution_count": 130,
   "metadata": {},
   "outputs": [
    {
     "name": "stdout",
     "output_type": "stream",
     "text": [
      "torch.Size([2, 5])\n"
     ]
    }
   ],
   "source": [
    "# similarity: a batch of vectors v.s. a batch of sentence representations \n",
    "query = torch.rand(2, 10) # pay attention to the differences to the previous case\n",
    "sents = torch.rand(2, 5, 10)\n",
    "\n",
    "similarity = (query.view(2, 1, 10) * sents).sum(dim=2)\n",
    "print(similarity.size())  # similarity[i, j] means the vector dot-product between the query[i] and the word j at sentence i"
   ]
  },
  {
   "cell_type": "markdown",
   "metadata": {},
   "source": [
    "## Similarity: a sentence v.s. a batch of sentence"
   ]
  },
  {
   "cell_type": "code",
   "execution_count": 135,
   "metadata": {},
   "outputs": [
    {
     "name": "stdout",
     "output_type": "stream",
     "text": [
      "torch.Size([2, 4, 5])\n",
      "torch.Size([2, 5, 4])\n"
     ]
    }
   ],
   "source": [
    "# similarity: a sentence v.s. a batch of sentence representations\n",
    "sent_0 = torch.rand(4, 10)\n",
    "sents = torch.rand(2, 5, 10)\n",
    "\n",
    "# Q: what is the underlying process? hint: recall the previous align-and-broadcast\n",
    "# A: ---- YOUR ANSWER HERE ----\n",
    "similarity = (sent_0.view(1, 4, 1, 10) * sents.view(2, 1, 5, 10)).sum(dim=3) \n",
    "print(similarity.size()) # similarity[i, j, k] means the vector dot-product between sent_0[j] (j-th word) and sents[i, k] (i-th sent, k-th word)\n",
    "\n",
    "similarity = (sent_0.view(1, 1, 4, 10) * sents.view(2, 5, 1, 10)).sum(dim=3)\n",
    "print(similarity.size()) # similarity[i, j, k] means the vector dot-product between sent_0[k] (k-th word) and sents[i, j] (i-th sent, j-th word)\n",
    "\n",
    "# NOTE: pay attention two the differences of the shapes"
   ]
  },
  {
   "cell_type": "markdown",
   "metadata": {},
   "source": [
    "## Similarity: two batches of sentences"
   ]
  },
  {
   "cell_type": "code",
   "execution_count": 138,
   "metadata": {},
   "outputs": [
    {
     "name": "stdout",
     "output_type": "stream",
     "text": [
      "torch.Size([2, 5, 6])\n",
      "torch.Size([2, 6, 5])\n"
     ]
    }
   ],
   "source": [
    "# similarity: two batches of sentences representations\n",
    "# this is usually happens in machine translation where we have a batch of sentences of source language, and another batch of sentences of target language\n",
    "source_sents = torch.rand(2, 5, 10) # [batch_size = 2, source_sent_length = 5, hidden_size = 10]\n",
    "target_sents = torch.rand(2, 6, 10) # [batch_size = 2, target_sent_length = 6, hidden_size = 10]\n",
    "\n",
    "# Q: what is the underlying process? hint: recall the previous align-and-broadcast\n",
    "# A: ---- YOUR ANSWER HERE ----\n",
    "similarity = (source_sents.view(2, 5, 1, 10) * target_sents.view(2, 1, 6, 10)).sum(dim = 3)\n",
    "print(similarity.size()) # similarity[i, j, k] means source_sents[i, j] v.s. target_sents[i, k]\n",
    "\n",
    "similarity = (source_sents.view(2, 1, 5, 10) * target_sents.view(2, 6, 1, 10)).sum(dim = 3)\n",
    "print(similarity.size()) # similarity[i, j, k] means source_sents[i, k] v.s. target_sents[i, j]\n",
    "# NOTE: pay attention two the differences of the shapes"
   ]
  },
  {
   "cell_type": "markdown",
   "metadata": {},
   "source": [
    "# Section 3. Masked Batch Computation"
   ]
  },
  {
   "cell_type": "markdown",
   "metadata": {},
   "source": [
    "When putting sentences of difference length into a batch, common practice is to pad them into the same pre-specified maximum length with a special PAD token, then mask out computation involving the PAD token."
   ]
  },
  {
   "cell_type": "markdown",
   "metadata": {},
   "source": [
    "## Basic Masking"
   ]
  },
  {
   "cell_type": "code",
   "execution_count": 141,
   "metadata": {},
   "outputs": [],
   "source": [
    "# a batch of sentences with different length\n",
    "PAD = 0\n",
    "sents = torch.tensor([[1, 2, 3, 0, 0], # length = 3, 2 PAD tokens,\n",
    "                      [3, 4, 0, 0, 0], # length = 2, 3 PAD tokens\n",
    "                      [5, 6, 7, 8, 9]] # length = 5, no PAD token\n",
    "                    )"
   ]
  },
  {
   "cell_type": "code",
   "execution_count": 142,
   "metadata": {},
   "outputs": [
    {
     "name": "stdout",
     "output_type": "stream",
     "text": [
      "tensor([[1., 1., 1., 0., 0.],\n",
      "        [1., 1., 0., 0., 0.],\n",
      "        [1., 1., 1., 1., 1.]])\n"
     ]
    }
   ],
   "source": [
    "# create a batch of mask vectors\n",
    "mask = (sents != PAD).float()\n",
    "print(mask)"
   ]
  },
  {
   "cell_type": "markdown",
   "metadata": {},
   "source": [
    "## Masked Batchified Computation"
   ]
  },
  {
   "cell_type": "markdown",
   "metadata": {},
   "source": [
    "Now we repeat the computation of the previous section. But this time, we mask out the computation involving the PAD tokens."
   ]
  },
  {
   "cell_type": "markdown",
   "metadata": {},
   "source": [
    "## Similarity: one single vector vs. a batch of sentence + mask"
   ]
  },
  {
   "cell_type": "code",
   "execution_count": 145,
   "metadata": {},
   "outputs": [
    {
     "name": "stdout",
     "output_type": "stream",
     "text": [
      "tensor([[2.2061, 1.4723, 1.4071, 0.0000, 0.0000],\n",
      "        [1.8124, 1.3987, 0.0000, 0.0000, 0.0000],\n",
      "        [1.8645, 2.5112, 2.2962, 3.0032, 2.4920]])\n",
      "torch.Size([3, 5])\n"
     ]
    }
   ],
   "source": [
    "# one single vector v.s. a batch of sentence representations + a batch of mask\n",
    "query = torch.rand(10)\n",
    "sents = torch.rand(3, 5, 10)\n",
    "\n",
    "# suppose we would like to compute the dot-product (as a measure of similarity) between the query vector and all words within all sentences\n",
    "similarity = (query.view(1, 1, 10) * sents * mask.view(3, 5, 1)).sum(dim=2) # query.size = [1, 1, 10]\n",
    "                                                                            # sents.size = [3, 5, 10]\n",
    "                                                                            # mask.size  = [3, 5, 1]\n",
    "                                                                            # recall the align-then-broadcast introduced in the previous section\n",
    "print(similarity)\n",
    "print(similarity.size())  # similarity[i, j] means the vector dot-product between the query vector and the word j at sentence i\n",
    "                          # similarity scores for PAD tokens are masked to be 0"
   ]
  },
  {
   "cell_type": "markdown",
   "metadata": {},
   "source": [
    "## Similarity: a sentence vs. a batch of sentence + mask"
   ]
  },
  {
   "cell_type": "code",
   "execution_count": 149,
   "metadata": {},
   "outputs": [
    {
     "name": "stdout",
     "output_type": "stream",
     "text": [
      "tensor([[[2.0493, 2.1468, 2.2325, 0.0000, 0.0000],\n",
      "         [3.1543, 3.7314, 4.3647, 0.0000, 0.0000],\n",
      "         [2.3197, 2.5866, 3.1946, 0.0000, 0.0000],\n",
      "         [0.0000, 0.0000, 0.0000, 0.0000, 0.0000]],\n",
      "\n",
      "        [[2.2435, 2.1819, 0.0000, 0.0000, 0.0000],\n",
      "         [3.1755, 3.7108, 0.0000, 0.0000, 0.0000],\n",
      "         [2.0227, 3.0320, 0.0000, 0.0000, 0.0000],\n",
      "         [0.0000, 0.0000, 0.0000, 0.0000, 0.0000]],\n",
      "\n",
      "        [[1.8279, 3.1262, 1.9105, 1.4596, 1.3352],\n",
      "         [3.0546, 4.7720, 3.2631, 2.5259, 2.6082],\n",
      "         [2.7099, 3.2255, 2.7408, 1.7844, 1.7518],\n",
      "         [0.0000, 0.0000, 0.0000, 0.0000, 0.0000]]])\n",
      "torch.Size([3, 4, 5])\n"
     ]
    }
   ],
   "source": [
    "# similarity: a sentence v.s. a batch of sentence representations\n",
    "sent_0 = torch.rand(4, 10)\n",
    "sent_0_mask = torch.tensor([1, 1, 1, 0]) # we assume the length of sent_0 is 3\n",
    "\n",
    "sents = torch.rand(3, 5, 10)\n",
    "\n",
    "# Q: what is the underlying process? hint: recall the previous align-and-broadcast\n",
    "# A: ---- YOUR ANSWER HERE ----\n",
    "#\n",
    "# hint: first mask out sent_0\n",
    "#       sent_0.size        = [1, 4, 1, 10]\n",
    "#       sent_0_mask.size   = [1, 4, 1, 1]\n",
    "#       sent_0_masked.size = [1, 4, 1, 10]\n",
    "#\n",
    "#       then mask out sents\n",
    "#       sents.size         = [3, 1, 5, 10]\n",
    "#       mask.size          = [3, 1, 5, 1 ]\n",
    "#       sents_masked.size  = [3, 1, 5, 10]\n",
    "#\n",
    "#       finally computed similarity score for the two masked tensors\n",
    "#       sent_0_masked.size = [1, 4, 1, 10]\n",
    "#       sents_masked.size  = [3, 1, 5, 10]\n",
    "#       similarity.size    = [3, 4, 5]\n",
    "\n",
    "similarity = (sent_0.view(1, 4, 1, 10) * sent_0_mask.view(1, 4, 1, 1) * sents.view(3, 1, 5, 10) * mask.view(3, 1, 5, 1)).sum(dim=3) \n",
    "\n",
    "print(similarity)\n",
    "print(similarity.size()) # similarity[i, j, k] means the vector dot-product between sent_0[j] (j-th word) and sents[i, k] (i-th sent, k-th word)\n",
    "                         # similarity scores for PAD tokens are masked to be 0"
   ]
  },
  {
   "cell_type": "markdown",
   "metadata": {},
   "source": [
    "## Similarity: two batches of masked sentences"
   ]
  },
  {
   "cell_type": "code",
   "execution_count": 151,
   "metadata": {},
   "outputs": [
    {
     "name": "stdout",
     "output_type": "stream",
     "text": [
      "tensor([[[2.5672, 2.6088, 2.5834, 0.0000, 0.0000, 0.0000],\n",
      "         [2.0834, 1.5814, 2.3227, 0.0000, 0.0000, 0.0000],\n",
      "         [2.5505, 2.8746, 2.9579, 0.0000, 0.0000, 0.0000],\n",
      "         [2.6716, 2.0214, 2.7910, 0.0000, 0.0000, 0.0000],\n",
      "         [0.0000, 0.0000, 0.0000, 0.0000, 0.0000, 0.0000]],\n",
      "\n",
      "        [[2.0494, 2.5466, 2.8356, 2.0703, 2.9785, 3.8640],\n",
      "         [0.9491, 1.5451, 1.6202, 1.1407, 1.5279, 1.9398],\n",
      "         [3.0602, 2.4551, 3.5492, 2.8821, 3.5459, 4.9329],\n",
      "         [2.5598, 2.3238, 2.8777, 2.4559, 2.8768, 4.1201],\n",
      "         [2.0323, 1.8204, 2.0931, 2.0048, 1.5199, 2.5985]]])\n",
      "torch.Size([2, 5, 6])\n"
     ]
    }
   ],
   "source": [
    "# similarity: two batches of sentences representations\n",
    "# this is usually happens in machine translation where we have a batch of sentences of source language, and another batch of sentences of target language\n",
    "# here additionaly, we assume each sentence has its own mask \n",
    "source_sents = torch.rand(2, 5, 10) # [batch_size = 2, source_sent_length = 5, hidden_size = 10]\n",
    "source_mask  = torch.tensor([[1, 1, 1, 1, 0], # length = 4\n",
    "                             [1, 1, 1, 1, 1]] # length = 5\n",
    "                           )\n",
    "target_sents = torch.rand(2, 6, 10) # [batch_size = 2, target_sent_length = 6, hidden_size = 10]\n",
    "target_mask  = torch.tensor([[1, 1, 1, 0, 0, 0], # length = 3\n",
    "                             [1, 1, 1, 1, 1, 1]] # length = 6\n",
    "                           )\n",
    "\n",
    "# Q: what is the underlying process? hint: recall the previous align-and-broadcast-and-mask\n",
    "# A: ---- YOUR ANSWER HERE ----\n",
    "similarity = (source_sents.view(2, 5, 1, 10) * source_mask.view(2, 5, 1, 1) * target_sents.view(2, 1, 6, 10) * target_mask.view(2, 1, 6, 1)).sum(dim = 3)\n",
    "print(similarity)\n",
    "print(similarity.size()) # similarity[i, j, k] means source_sents[i, j] v.s. target_sents[i, k]"
   ]
  },
  {
   "cell_type": "markdown",
   "metadata": {},
   "source": [
    "# Section 4. Final Application: Negative Log Likelihood"
   ]
  },
  {
   "cell_type": "markdown",
   "metadata": {},
   "source": [
    "Finally, we compute the per-word negative log likelihood of a neural language model that puts everything that we have learned together.\n",
    "\n",
    "The per-word NLL for a sentence $x_1, ..., x_T$ is:\n",
    "\n",
    "$$\n",
    "- \\frac{1}{T} \\sum_t \\log p(x_t | x_{1:t-1})\n",
    "$$\n",
    "\n",
    "which is the average of word likelihood over sentence length."
   ]
  },
  {
   "cell_type": "code",
   "execution_count": 4,
   "metadata": {},
   "outputs": [],
   "source": [
    "# we start with the final layer of a neural language model which output a tensor named logits (logits means the vector before putting into softmax):\n",
    "logits = torch.rand(2, 5, 100)  # [batch_size = 2, max_sent_len = 5, vocab_size = 100]\n",
    "                                # in practice this should be the output of the final layer of a neural language model. Here we just simulate it as random tensor\n",
    "vocab_size = 100 # in practice the vocabulary size is usually >10K, here for demonstration we simplify it to 100\n",
    "\n",
    "# putting the logits into a softmax function gives the probability of each word within the vocabulary\n",
    "probs = F.softmax(logits, dim=2)\n",
    "\n",
    "# negative log likelihood requires the log of probability\n",
    "log_probs = F.log_softmax(logits, dim=2)\n",
    "\n",
    "# a language model aims to maximize the probability of each word in every sentence, but the PAD token should be excluded\n",
    "target_sent = torch.tensor([[10, 25, 59, 77, 0],   # length = 4, suppose [10, 25, 59, 77, 0] means = ['I', 'really', 'like', 'cats', 'PAD']\n",
    "                            [16, 29, 40, 56, 3]]   # length = 5, suppose [16, 29, 40, 56, 3] means = ['Jack', 'does', 'not', 'have', 'dogs']\n",
    "                          )\n",
    "\n",
    "# transform the index representation to the one-hot representation\n",
    "target_one_hot = F.one_hot(target_sent, vocab_size)\n",
    "\n",
    "# create mask for the target sentence\n",
    "mask = (target_sent != 0).float()\n",
    "\n",
    "# the following computation computes the negative log likelihood\n",
    "# ---- YOUR TASK ----\n",
    "# 1. annotate the shape of every tensor in the following computation\n",
    "# 2. explain every computation step\n",
    "negative_log_likelihood = (((-target_one_hot * log_probs).sum(dim=2) * mask).sum(dim=1) / mask.sum(dim=1)).mean()"
   ]
  },
  {
   "cell_type": "markdown",
   "metadata": {},
   "source": [
    "# Further Reading"
   ]
  },
  {
   "cell_type": "markdown",
   "metadata": {},
   "source": [
    "Up to this stage, you have already suffered from endless annotation of shape of tensor. Is there a way that one can write code which is self-explanatory, rather than requires shape annotation at every single line? \n",
    "\n",
    "The answer is yes, and the solution is [einsum](https://rockt.github.io/2018/04/30/einsum) and [einops](https://einops.rocks/). You are encouraged to find them out yourself."
   ]
  }
 ],
 "metadata": {
  "kernelspec": {
   "display_name": "Python 3",
   "language": "python",
   "name": "python3"
  },
  "language_info": {
   "codemirror_mode": {
    "name": "ipython",
    "version": 3
   },
   "file_extension": ".py",
   "mimetype": "text/x-python",
   "name": "python",
   "nbconvert_exporter": "python",
   "pygments_lexer": "ipython3",
   "version": "3.8.10"
  }
 },
 "nbformat": 4,
 "nbformat_minor": 5
}
